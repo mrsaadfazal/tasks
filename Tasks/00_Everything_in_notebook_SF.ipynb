{
 "cells": [
  {
   "cell_type": "markdown",
   "metadata": {},
   "source": [
    "# Participant\n",
    "Title = \"ICS\"\n",
    "\n",
    "Name = \"Saad Fazal\"\n",
    "\n",
    "email = \"saadfl2000@gmail.com\"\n",
    "\n",
    "whatsapp = \"+923125581867\""
   ]
  },
  {
   "cell_type": "code",
   "execution_count": null,
   "metadata": {},
   "outputs": [],
   "source": []
  }
 ],
 "metadata": {
  "language_info": {
   "name": "python"
  },
  "orig_nbformat": 4
 },
 "nbformat": 4,
 "nbformat_minor": 2
}
